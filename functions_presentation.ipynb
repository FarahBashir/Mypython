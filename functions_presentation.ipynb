{
  "nbformat": 4,
  "nbformat_minor": 0,
  "metadata": {
    "colab": {
      "provenance": []
    },
    "kernelspec": {
      "name": "python3",
      "display_name": "Python 3"
    },
    "language_info": {
      "name": "python"
    }
  },
  "cells": [
    {
      "cell_type": "markdown",
      "source": [
        "# **What is a Function in Python?**\n",
        "\n",
        "A function is:\n",
        "\n",
        "*   a reusable block of code that performs a specific task.\n",
        "*   call it (use it) whenever you need it, without writing the same code again.\n",
        "\n",
        "\n",
        "\n",
        "## **How to Define a Function**\n",
        "To defind a funtion we use the `def` keyword\n",
        "\n",
        "Syntax:"
      ],
      "metadata": {
        "id": "9-T0oSpyKAZ_"
      }
    },
    {
      "cell_type": "code",
      "source": [
        "# code to excute a funtion\n",
        "def function_name():\n"
      ],
      "metadata": {
        "id": "3IWSR2dqLudf"
      },
      "execution_count": null,
      "outputs": []
    },
    {
      "cell_type": "markdown",
      "source": [
        "### 1. Simple Function Example\n",
        "\n",
        "Let's create a funtion that greets the user"
      ],
      "metadata": {
        "id": "ZunMoaRaNlCG"
      }
    },
    {
      "cell_type": "code",
      "source": [
        "def welcome():          # welcome is the funtion name\n",
        "    print(\"Hello! Welcome to Python.\")  # does not print through print\n",
        "    #print(\"How can I help you?\")\n",
        "welcome()          #call the funtion to print"
      ],
      "metadata": {
        "id": "wHzGD3CEOKfb"
      },
      "execution_count": null,
      "outputs": []
    },
    {
      "cell_type": "markdown",
      "source": [
        "### 2. Functions with Parameters and arguments\n",
        "\n",
        "\n",
        "**Parameter:**  A variable in the function definition (defined inside the function parentheses)\n",
        "  \n",
        "  Receieves value when the funtion is called\n",
        "\n",
        "\n",
        "\n"
      ],
      "metadata": {
        "id": "XZb-eJsBQRQN"
      }
    },
    {
      "cell_type": "code",
      "source": [
        "def greet_user(name):  # 'name' is a parameter\n",
        "    print(\"Hello,\", name)\n",
        "greet_user(\"Metalearn\")   # value assigned"
      ],
      "metadata": {
        "id": "1ubywseRUx9k"
      },
      "execution_count": null,
      "outputs": []
    },
    {
      "cell_type": "markdown",
      "source": [
        "**Argument:** The actual value passed to the function"
      ],
      "metadata": {
        "id": "dLVULoR3VVX6"
      }
    },
    {
      "cell_type": "code",
      "source": [
        "def greet_user(name):  # 'name' is a parameter\n",
        "    print(\"Hello,\", name)\n",
        "greet_user(\"Metalearn\")   # value assigned, metalearn is an argument\n",
        "#greet_user(\"batch2 students\")"
      ],
      "metadata": {
        "id": "fhvVbrwoWAHl"
      },
      "execution_count": null,
      "outputs": []
    },
    {
      "cell_type": "markdown",
      "source": [
        "Examples of Arguments and parameter"
      ],
      "metadata": {
        "id": "YI-IzNIQXjcZ"
      }
    },
    {
      "cell_type": "code",
      "source": [
        "def student_name(name1):      # 'name1' is a parameter\n",
        "    print(\"Hello\", name1, \"Are you ready to learn?\")\n",
        "\n",
        "                            # Call the function with the argument \"Aisha\"\n",
        "student_name(\"Shermin!\")\n",
        "student_name(\"Areesha!\")\n",
        "student_name(\"Mazin!\")"
      ],
      "metadata": {
        "id": "WNOKU0u8WnCQ"
      },
      "execution_count": null,
      "outputs": []
    },
    {
      "cell_type": "code",
      "source": [
        "def personal_greet(name, age):   #name and age are parameters\n",
        "    print(\"Hello\", name + \"!\", \"You are\", age, \"years old.\")\n",
        "\n",
        "personal_greet(\"Ali\", 25)  #values assigned are arguments\n",
        "personal_greet(\"Sara\", 22)\n",
        "personal_greet(\"Ahmed\", 28)"
      ],
      "metadata": {
        "id": "raVF6W4rXvEL"
      },
      "execution_count": null,
      "outputs": []
    },
    {
      "cell_type": "code",
      "source": [
        "def birthday_wish():\n",
        "    print(\"Happy birthday to you!\")\n",
        "    print(\"Happy birthday dear!\")\n",
        "\n",
        "birthday_wish()\n",
        "#birthday_wish()\n",
        "#birthday_wish()"
      ],
      "metadata": {
        "id": "ATxzuLeCYZGz"
      },
      "execution_count": null,
      "outputs": []
    },
    {
      "cell_type": "markdown",
      "source": [
        "## Functions with Return Values\n",
        "What is return?\n",
        "\n",
        "The return statement is used to return the output from a function.\n",
        "\n"
      ],
      "metadata": {
        "id": "JHCbUASnY3U3"
      }
    },
    {
      "cell_type": "code",
      "source": [
        "def add(a, b):\n",
        "    return a + b    #instead of print we use return\n",
        "                    #when you write return the value next to it will be returned when this line is reached\n",
        "                        # Using the result\n",
        "result = add(7, 510)  #calling the funtion\n",
        "print(\"The sum is:\", result)"
      ],
      "metadata": {
        "id": "vMbF_1vAZ3yT"
      },
      "execution_count": null,
      "outputs": []
    },
    {
      "cell_type": "code",
      "source": [
        "def sub(x,y):\n",
        "  return y - x\n",
        "result = sub(130, 280)\n",
        "print(\"result = \", result)\n"
      ],
      "metadata": {
        "id": "sH-UQPaya9aC"
      },
      "execution_count": null,
      "outputs": []
    },
    {
      "cell_type": "markdown",
      "source": [
        "# **Summary**\n",
        "\n",
        "*   Use **`def`** to create a function.\n",
        "*   Use **parameters** to give information to the function.\n",
        "*   Use **`return`** to get a value back.\n",
        "\n",
        "\n",
        "\n",
        "\n",
        "# Remember\n",
        "## \"Practice makes perfect.\"\n"
      ],
      "metadata": {
        "id": "cn7atOf2b4C5"
      }
    }
  ]
}