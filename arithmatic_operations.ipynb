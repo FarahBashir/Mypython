{
  "nbformat": 4,
  "nbformat_minor": 0,
  "metadata": {
    "colab": {
      "provenance": []
    },
    "kernelspec": {
      "name": "python3",
      "display_name": "Python 3"
    },
    "language_info": {
      "name": "python"
    }
  },
  "cells": [
    {
      "cell_type": "code",
      "execution_count": 4,
      "metadata": {
        "id": "Px-2XjXKMVja",
        "colab": {
          "base_uri": "https://localhost:8080/"
        },
        "outputId": "a213fcad-9864-41a2-c6d6-5c7adc2dac3b"
      },
      "outputs": [
        {
          "output_type": "stream",
          "name": "stdout",
          "text": [
            "Addition\n",
            "20 + 5\n",
            "sum = 25\n",
            "Subtraction\n",
            "20 - 5\n",
            "result = 15\n",
            "Multiplication\n",
            "20 * 5\n",
            "result= 100\n",
            "Division\n",
            "20 / 5\n",
            "result = 4.0\n",
            "Floor division\n",
            "11 // 5\n",
            "result = 2\n",
            "Modulus\n",
            "11 % 5\n",
            "result = 1\n",
            "Exponentiation\n",
            "11 ** 5\n",
            "result = 161051\n"
          ]
        }
      ],
      "source": [
        "#Arithmatic operators in python\n",
        "\n",
        "# Addition\n",
        "print(\"Addition\")\n",
        "a = 20\n",
        "b= 5\n",
        "sum = a+b\n",
        "print(a,\"+\", b)\n",
        "print(\"sum =\", sum)\n",
        "\n",
        "#Subtraction\n",
        "print(\"Subtraction\")\n",
        "sub = a-b\n",
        "print(a,\"-\",b)\n",
        "print(\"result =\",sub )\n",
        "\n",
        "#Multiplication\n",
        "print(\"Multiplication\")\n",
        "mul = a*b\n",
        "print(a,\"*\", b)\n",
        "print(\"result=\", mul)\n",
        "\n",
        "#Division\n",
        "print(\"Division\")\n",
        "div = a/b\n",
        "print(a,\"/\",b)\n",
        "print(\"result =\", div)\n",
        "\n",
        "#Floor division  gives only integer part of the dvision\n",
        "print(\"Floor division\")\n",
        "c = 11\n",
        "d = 5\n",
        "floor= c//d\n",
        "print(c,\"//\",d)\n",
        "print(\"result =\", floor)\n",
        "\n",
        "# Modulus (%) returns the remainder\n",
        "print(\"Modulus\")\n",
        "mod = c%d\n",
        "print(c,\"%\",d)\n",
        "print(\"result =\", mod)\n",
        "\n",
        "# Exponentiation (**): raises c to the power of d\n",
        "print(\"Exponentiation\")\n",
        "exp = c**d\n",
        "print(c,\"**\",d)\n",
        "print(\"result =\", exp)\n"
      ]
    }
  ]
}