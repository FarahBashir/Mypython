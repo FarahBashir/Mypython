{
  "nbformat": 4,
  "nbformat_minor": 0,
  "metadata": {
    "colab": {
      "provenance": []
    },
    "kernelspec": {
      "name": "python3",
      "display_name": "Python 3"
    },
    "language_info": {
      "name": "python"
    }
  },
  "cells": [
    {
      "cell_type": "markdown",
      "source": [],
      "metadata": {
        "id": "zwwzRzHJo1hB"
      }
    },
    {
      "cell_type": "markdown",
      "source": [
        "### Lists - A bag of items (You can change)\n",
        "Lists are collectins that can be changed. You can add, remove or update items.\n"
      ],
      "metadata": {
        "id": "5jOhIxOwo-Re"
      }
    },
    {
      "cell_type": "code",
      "execution_count": 1,
      "metadata": {
        "colab": {
          "base_uri": "https://localhost:8080/"
        },
        "id": "yhKinJzNoFrI",
        "outputId": "f17b2420-7f6f-4c4f-d897-2c5a0d6b8017"
      },
      "outputs": [
        {
          "output_type": "stream",
          "name": "stdout",
          "text": [
            "apple\n",
            "orange\n",
            "['apple', 'banana', 'cherry', 'orange']\n"
          ]
        }
      ],
      "source": [
        "# Example 1\n",
        "fruits = ['apple', 'banana', 'cherry']\n",
        "fruits.append(\"orange\")\n",
        "print(fruits[0])\n",
        "print(fruits[3])\n",
        "print(fruits)"
      ]
    },
    {
      "cell_type": "code",
      "source": [
        "# Example 2\n",
        "routine = ['wake up', 'breakfast', 'lunch', 'dinner', \"sleep\"]\n",
        "routine.append(\"exercise\")\n",
        "print(routine[4])\n",
        "print(routine)"
      ],
      "metadata": {
        "colab": {
          "base_uri": "https://localhost:8080/"
        },
        "id": "IWR1ZAPJqQP4",
        "outputId": "1b884a60-5012-4fb6-c61e-789392141457"
      },
      "execution_count": 3,
      "outputs": [
        {
          "output_type": "stream",
          "name": "stdout",
          "text": [
            "sleep\n",
            "['wake up', 'breakfast', 'lunch', 'dinner', 'sleep', 'exercise']\n"
          ]
        }
      ]
    },
    {
      "cell_type": "code",
      "source": [
        "# Example 3\n",
        "class_schedule = ['English', 'Math', 'Science', 'History', 'Geography']\n",
        "class_schedule.append(\"Art\")\n",
        "print(class_schedule[3])\n",
        "print(class_schedule)"
      ],
      "metadata": {
        "colab": {
          "base_uri": "https://localhost:8080/"
        },
        "id": "-gt0JMtuq47x",
        "outputId": "663421dd-4571-4543-c342-1d41e7400e5b"
      },
      "execution_count": 5,
      "outputs": [
        {
          "output_type": "stream",
          "name": "stdout",
          "text": [
            "History\n",
            "['English', 'Math', 'Science', 'History', 'Geography', 'Art']\n"
          ]
        }
      ]
    },
    {
      "cell_type": "markdown",
      "source": [
        "### Tuples - A fixed collection (You can't change)\n",
        "Tuples are like lists, but you cannot change their values."
      ],
      "metadata": {
        "id": "oQE60psDrNQR"
      }
    },
    {
      "cell_type": "code",
      "source": [
        "# Example 1\n",
        "months = ('January', 'February', 'March', 'April', 'May', 'June', 'July', 'August', 'September', 'October', 'November', 'December')\n",
        "print(months[0])\n",
        "print(months[5])\n",
        "print(months[11])\n",
        "print(months)\n"
      ],
      "metadata": {
        "colab": {
          "base_uri": "https://localhost:8080/"
        },
        "id": "5RY8TklKre8a",
        "outputId": "dbcf6259-394b-4d61-8458-1d079d9ddc82"
      },
      "execution_count": 7,
      "outputs": [
        {
          "output_type": "stream",
          "name": "stdout",
          "text": [
            "January\n",
            "June\n",
            "December\n",
            "('January', 'February', 'March', 'April', 'May', 'June', 'July', 'August', 'September', 'October', 'November', 'December')\n"
          ]
        }
      ]
    },
    {
      "cell_type": "code",
      "source": [
        "# Example 2\n",
        "days_of_the_week = ('Monday', 'Tuesday', 'Wednesday', 'Thursday', 'Friday', 'Saturday', 'Sunday')\n",
        "print(days_of_the_week[0])\n",
        "print(days_of_the_week[3])\n",
        "print(days_of_the_week[6])\n",
        "print(days_of_the_week)"
      ],
      "metadata": {
        "colab": {
          "base_uri": "https://localhost:8080/"
        },
        "id": "FE1ibh9FsKi_",
        "outputId": "31aa5ea1-e5ea-499c-d5c8-2874f518c64f"
      },
      "execution_count": 8,
      "outputs": [
        {
          "output_type": "stream",
          "name": "stdout",
          "text": [
            "Monday\n",
            "Thursday\n",
            "Sunday\n",
            "('Monday', 'Tuesday', 'Wednesday', 'Thursday', 'Friday', 'Saturday', 'Sunday')\n"
          ]
        }
      ]
    },
    {
      "cell_type": "code",
      "source": [
        "# Example 3\n",
        "book = ('The Great Gatsby', 'F. Scott Fitzgerald', 1925)\n",
        "print(book[0])\n",
        "print(book[1])\n",
        "print(book[2])\n",
        "print(book)"
      ],
      "metadata": {
        "colab": {
          "base_uri": "https://localhost:8080/"
        },
        "id": "qxoAs98wsWNn",
        "outputId": "df1cee14-0e28-42b1-b94a-d89ebf32aa2b"
      },
      "execution_count": 9,
      "outputs": [
        {
          "output_type": "stream",
          "name": "stdout",
          "text": [
            "The Great Gatsby\n",
            "F. Scott Fitzgerald\n",
            "1925\n",
            "('The Great Gatsby', 'F. Scott Fitzgerald', 1925)\n"
          ]
        }
      ]
    },
    {
      "cell_type": "markdown",
      "source": [
        "### Dictionaries - Key and Value Pairs\n",
        "Dictionaries store data as key-value pairs"
      ],
      "metadata": {
        "id": "rchDrarMsmnw"
      }
    },
    {
      "cell_type": "code",
      "source": [
        "# Example 1\n",
        "person = {'name': 'John', 'age': 30, 'city': 'New York'}\n",
        "print(person['name'])\n",
        "print(person['age'])\n",
        "print(person['city'])\n",
        "print(person)"
      ],
      "metadata": {
        "colab": {
          "base_uri": "https://localhost:8080/"
        },
        "id": "ZMSWJLECs-Ml",
        "outputId": "0bf34ee3-1e09-4542-876f-9ccde712ae8b"
      },
      "execution_count": 10,
      "outputs": [
        {
          "output_type": "stream",
          "name": "stdout",
          "text": [
            "John\n",
            "30\n",
            "New York\n",
            "{'name': 'John', 'age': 30, 'city': 'New York'}\n"
          ]
        }
      ]
    },
    {
      "cell_type": "code",
      "source": [
        "# Example 2\n",
        "student = {'name': 'Abubakar', 'age': 13, 'grade': 'A'}\n",
        "print(student['name'])\n",
        "print(student['age'])\n",
        "print(student['grade'])\n",
        "print(student)"
      ],
      "metadata": {
        "colab": {
          "base_uri": "https://localhost:8080/"
        },
        "id": "YoueaPmrtI6c",
        "outputId": "12728575-0bbf-438c-e8d8-2d631b827301"
      },
      "execution_count": 12,
      "outputs": [
        {
          "output_type": "stream",
          "name": "stdout",
          "text": [
            "Abubakar\n",
            "13\n",
            "A\n",
            "{'name': 'Abubakar', 'age': 13, 'grade': 'A'}\n"
          ]
        }
      ]
    },
    {
      "cell_type": "code",
      "source": [
        "# Example 3\n",
        "car = {'make': 'Toyota', 'model': 'Camry', 'year': 2022}\n",
        "print(car['make'])\n",
        "print(car['model'])\n",
        "print(car['year'])\n",
        "print(car)"
      ],
      "metadata": {
        "colab": {
          "base_uri": "https://localhost:8080/"
        },
        "id": "GNsIfdRztiwc",
        "outputId": "e97a3e86-0eef-49ad-f38c-539f627e99c8"
      },
      "execution_count": 13,
      "outputs": [
        {
          "output_type": "stream",
          "name": "stdout",
          "text": [
            "Toyota\n",
            "Camry\n",
            "2022\n",
            "{'make': 'Toyota', 'model': 'Camry', 'year': 2022}\n"
          ]
        }
      ]
    },
    {
      "cell_type": "markdown",
      "source": [
        "### Sets - Unique Items Only\n",
        "Sets are unordered collections of unique items."
      ],
      "metadata": {
        "id": "avcitIIBttXH"
      }
    },
    {
      "cell_type": "code",
      "source": [
        "  # Example 1\n",
        "games = {'football', 'basketball', 'cricket', 'tennis', 'basketball'}\n",
        "print(games)  #removes duplicates"
      ],
      "metadata": {
        "colab": {
          "base_uri": "https://localhost:8080/"
        },
        "id": "KmmNWwhnt5ni",
        "outputId": "2c385632-ba04-4555-8b2f-9843e42a8a3d"
      },
      "execution_count": 15,
      "outputs": [
        {
          "output_type": "stream",
          "name": "stdout",
          "text": [
            "{'tennis', 'football', 'cricket', 'basketball'}\n"
          ]
        }
      ]
    },
    {
      "cell_type": "code",
      "source": [
        "# Example 2\n",
        "colors = {'red', 'green', 'blue', 'yellow', 'red'}\n",
        "print(colors)"
      ],
      "metadata": {
        "colab": {
          "base_uri": "https://localhost:8080/"
        },
        "id": "yo7kat9VuXzt",
        "outputId": "2b85201a-affa-4fa6-d7af-5e73d2cb66a8"
      },
      "execution_count": 16,
      "outputs": [
        {
          "output_type": "stream",
          "name": "stdout",
          "text": [
            "{'red', 'yellow', 'green', 'blue'}\n"
          ]
        }
      ]
    },
    {
      "cell_type": "code",
      "source": [
        "# Example 3\n",
        "animals = {'dog', 'cat', 'bird', 'fish', 'dog'}\n",
        "print(animals)"
      ],
      "metadata": {
        "colab": {
          "base_uri": "https://localhost:8080/"
        },
        "id": "NCLtoPywu0eN",
        "outputId": "44943ddc-9828-4f8c-920b-233f77aaa2ff"
      },
      "execution_count": 17,
      "outputs": [
        {
          "output_type": "stream",
          "name": "stdout",
          "text": [
            "{'bird', 'fish', 'dog', 'cat'}\n"
          ]
        }
      ]
    }
  ]
}