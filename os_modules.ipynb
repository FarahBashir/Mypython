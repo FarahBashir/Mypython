{
  "cells": [
    {
      "cell_type": "code",
      "execution_count": 12,
      "metadata": {
        "colab": {
          "base_uri": "https://localhost:8080/"
        },
        "id": "PyAul6PwzPLZ",
        "outputId": "38956476-2357-421b-82e4-08ad57b25b52"
      },
      "outputs": [
        {
          "name": "stdout",
          "output_type": "stream",
          "text": [
            "Folder 'New Folder' already exists.\n",
            "Current working directory: /content\n"
          ]
        }
      ],
      "source": [
        "# The `os` module allows Python to interact with the Operating System.\n",
        "# You can:\n",
        " # Create or delete folders\n",
        " # Access file and folder information\n",
        " # Check or change the current directory\n",
        "\n",
        "import os\n",
        "\n",
        "create_folder = \"New Folder\"\n",
        "if not os.path.exists(create_folder):\n",
        "    os.mkdir(create_folder)\n",
        "    print(f\"Folder '{create_folder}' has been created.\")\n",
        "else:\n",
        "    print(f\"Folder '{create_folder}' already exists.\")\n",
        "\n",
        "current_folder = os.getcwd()\n",
        "print(\"Current working directory:\", current_folder)"
      ]
    },
    {
      "cell_type": "code",
      "execution_count": 17,
      "metadata": {
        "colab": {
          "base_uri": "https://localhost:8080/"
        },
        "id": "x5b-cPj2si0_",
        "outputId": "f1f97691-6033-458c-8666-639d1caaf091"
      },
      "outputs": [
        {
          "name": "stdout",
          "output_type": "stream",
          "text": [
            "The empty folder New Folder1 has been deleted.\n"
          ]
        }
      ],
      "source": [
        "# Delete a folder\n",
        "import os\n",
        "os.rmdir(\"New Folder1\")\n",
        "print(f\"The empty folder {'New Folder1'} has been deleted.\")"
      ]
    },
    {
      "cell_type": "code",
      "execution_count": 24,
      "metadata": {
        "colab": {
          "base_uri": "https://localhost:8080/"
        },
        "id": "6dPFO2xhtiUM",
        "outputId": "e5b157e8-ab99-421b-e73f-63bbdf6d2376"
      },
      "outputs": [
        {
          "name": "stdout",
          "output_type": "stream",
          "text": [
            "The square root of 16 is: 4.0\n",
            "The square root of 25 is: 5.0\n",
            "The area of a circle with radius 5 is: 78.53981633974483\n",
            "3.141592653589793\n",
            "81.0\n"
          ]
        }
      ],
      "source": [
        "# The `math` module provides many mathematical functions\n",
        "\n",
        "#Example 1\n",
        "import math\n",
        "\n",
        "number = 16\n",
        "square_root = math.sqrt(number)\n",
        "print(f\"The square root of {number} is: {square_root}\")\n",
        "\n",
        "# Emaple 2\n",
        "number = 25\n",
        "square_root = math.sqrt(number)\n",
        "print(f\"The square root of {number} is: {square_root}\")\n",
        "\n",
        "radius = 5\n",
        "area = math.pi * radius ** 2\n",
        "print(f\"The area of a circle with radius {radius} is: {area}\")\n",
        "print(math.pi)\n",
        "print(math.pow(3, 4))\n",
        "\n"
      ]
    },
    {
      "cell_type": "code",
      "execution_count": 23,
      "metadata": {
        "colab": {
          "base_uri": "https://localhost:8080/"
        },
        "id": "PqxycO-JvdLB",
        "outputId": "7e2f03c2-26d7-489e-96fe-13a4653f21fb"
      },
      "outputs": [
        {
          "name": "stdout",
          "output_type": "stream",
          "text": [
            "Enter the radius of the circle: 3\n",
            "The area of a circle with radius 3.0 is: 28.274333882308138\n"
          ]
        }
      ],
      "source": [
        "import math\n",
        "radius = float(input(\"Enter the radius of the circle: \"))\n",
        "area = math.pi * radius ** 2\n",
        "print(f\"The area of a circle with radius {radius} is: {area}\")"
      ]
    }
  ],
  "metadata": {
    "colab": {
      "provenance": []
    },
    "kernelspec": {
      "display_name": "Python 3",
      "name": "python3"
    },
    "language_info": {
      "name": "python"
    }
  },
  "nbformat": 4,
  "nbformat_minor": 0
}
