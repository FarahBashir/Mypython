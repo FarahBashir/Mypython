{
  "nbformat": 4,
  "nbformat_minor": 0,
  "metadata": {
    "colab": {
      "provenance": []
    },
    "kernelspec": {
      "name": "python3",
      "display_name": "Python 3"
    },
    "language_info": {
      "name": "python"
    }
  },
  "cells": [
    {
      "cell_type": "code",
      "execution_count": 7,
      "metadata": {
        "colab": {
          "base_uri": "https://localhost:8080/"
        },
        "id": "7K77QUvS7UMW",
        "outputId": "3dae070d-c75a-4c14-9d75-bc2ad01521bc"
      },
      "outputs": [
        {
          "output_type": "stream",
          "name": "stdout",
          "text": [
            "My name is Farah Bashir.\n",
            " I am learning Python language.\n",
            "This is my first program.\n",
            "Here is the list of essential skills I've learned so far.\n",
            "['Prompt Engineering', 'Google docs', 'Excel', 'Power point', 'Canva', 'Personal Branding']\n",
            "Here is the the updated list ['Prompt Engineering', 'Google docs', 'Excel', 'Power point', 'Canva', 'Personal Branding', 'Github']\n",
            "First topic: Prompt Engineering\n",
            "Third topic: Excel\n",
            "Last topic: Github\n",
            "Person info {'Name': 'MUHAMMAD', 'Age': 20, 'City': 'Karachi'}\n",
            "City: Karachi\n"
          ]
        }
      ],
      "source": [
        "# practicing print\n",
        "\n",
        "print(\"My name is Farah Bashir.\")\n",
        "print(\" I am learning Python language.\")\n",
        "print(\"This is my first program.\")\n",
        "\n",
        "print(\"Here is the list of essential skills I've learned so far.\")\n",
        "\n",
        " # practicing list\n",
        "topics= [\"Prompt Engineering\", \"Google docs\", \"Excel\", \"Power point\", \"Canva\", \"Personal Branding\"]\n",
        "print(topics)\n",
        "topics.append(\"Github\")\n",
        "print(\"Here is the the updated list\", topics)\n",
        "# Access a specific topic\n",
        "print(\"First topic:\", topics[0])\n",
        "print(\"Third topic:\", topics[2])\n",
        "print(\"Last topic:\", topics[6])\n",
        "\n",
        "# Dictionary practice\n",
        "# Dictionary is a collection of key-value pairs\n",
        "# each key is uniqe and points to a specific value\n",
        "\n",
        "person = {\n",
        "    \"Name\": \"MUHAMMAD\",\n",
        "    \"Age\": 20,\n",
        "    \"City\": \"Karachi\"\n",
        "}\n",
        "print(\"Person info\", person)\n",
        "\n",
        "#person is the variable\n",
        "#personal info in store in the variable\n",
        "\n",
        "# to acccess a specific value by key\n",
        "print(\"City:\", person[\"City\"])\n",
        "\n",
        "\n",
        "\n",
        "\n"
      ]
    }
  ]
}